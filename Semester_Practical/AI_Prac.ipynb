{
 "cells": [
  {
   "cell_type": "markdown",
   "id": "93c1fd57",
   "metadata": {},
   "source": [
    "# MISSIONARY AND CANNIBAL USING DFS"
   ]
  },
  {
   "cell_type": "code",
   "execution_count": 2,
   "id": "14640ecb",
   "metadata": {},
   "outputs": [
    {
     "name": "stdout",
     "output_type": "stream",
     "text": [
      "State(3, 3, 0, 0, left)\n",
      "State(2, 2, 1, 1, right)\n",
      "State(3, 2, 0, 1, left)\n",
      "State(3, 0, 0, 3, right)\n",
      "State(3, 1, 0, 2, left)\n",
      "State(1, 1, 2, 2, right)\n",
      "State(2, 2, 1, 1, left)\n",
      "State(0, 2, 3, 1, right)\n",
      "State(0, 3, 3, 0, left)\n",
      "State(0, 1, 3, 2, right)\n",
      "State(1, 1, 2, 2, left)\n",
      "State(0, 0, 3, 3, right)\n"
     ]
    }
   ],
   "source": [
    "#Seat No-37, Roll_No:9558,Name:Brita Nadar\n",
    "from collections import deque\n",
    "\n",
    "class State:\n",
    "    def __init__(self, m_left, c_left, m_right, c_right, boat_side):\n",
    "        self.m_left = m_left\n",
    "        self.c_left = c_left\n",
    "        self.m_right = m_right\n",
    "        self.c_right = c_right\n",
    "        self.boat_side = boat_side\n",
    "        self.parent = None\n",
    "\n",
    "    def is_valid(self):\n",
    "        if self.m_left < 0 or self.c_left < 0 or self.m_right < 0 or self.c_right < 0:\n",
    "            return False\n",
    "        if self.m_left != 0 and self.m_left < self.c_left:\n",
    "            return False\n",
    "        if self.m_right != 0 and self.m_right < self.c_right:\n",
    "            return False\n",
    "        return True\n",
    "\n",
    "    def is_goal(self):\n",
    "        return self.m_left == 0 and self.c_left == 0\n",
    "\n",
    "    def __eq__(self, other):\n",
    "        return self.m_left == other.m_left and self.c_left == other.c_left and \\\n",
    "               self.m_right == other.m_right and self.c_right == other.c_right and \\\n",
    "               self.boat_side == other.boat_side\n",
    "\n",
    "    def __hash__(self):\n",
    "        return hash((self.m_left, self.c_left, self.m_right, self.c_right, self.boat_side))\n",
    "\n",
    "    def __str__(self):\n",
    "        return f\"State({self.m_left}, {self.c_left}, {self.m_right}, {self.c_right}, {self.boat_side})\"\n",
    "\n",
    "def successors(state):\n",
    "    children = []\n",
    "    if state.boat_side == 'left':\n",
    "        for m in range(3):\n",
    "            for c in range(3):\n",
    "                if m + c >= 1 and m + c <= 2:\n",
    "                    new_state = State(state.m_left - m, state.c_left - c, state.m_right + m, state.c_right + c, 'right')\n",
    "                    if new_state.is_valid():\n",
    "                        new_state.parent = state\n",
    "                        children.append(new_state)\n",
    "    else:\n",
    "        for m in range(3):\n",
    "            for c in range(3):\n",
    "                if m + c >= 1 and m + c <= 2:\n",
    "                    new_state = State(state.m_left + m, state.c_left + c, state.m_right - m, state.c_right - c, 'left')\n",
    "                    if new_state.is_valid():\n",
    "                        new_state.parent = state\n",
    "                        children.append(new_state)\n",
    "    return children\n",
    "\n",
    "def dfs(start_state):\n",
    "    visited, stack = set(), [start_state]\n",
    "    while stack:\n",
    "        state = stack.pop()\n",
    "        if state.is_goal():\n",
    "            path = []\n",
    "            while state.parent:\n",
    "                path.append(state)\n",
    "                state = state.parent\n",
    "            path.append(state)\n",
    "            path.reverse()\n",
    "            return path\n",
    "        visited.add(state)\n",
    "        for child in successors(state):\n",
    "            if child not in visited:\n",
    "                stack.append(child)\n",
    "\n",
    "start_state = State(3, 3, 0, 0, 'left')\n",
    "path = dfs(start_state)\n",
    "for state in path:\n",
    "    print(state)\n"
   ]
  },
  {
   "cell_type": "code",
   "execution_count": null,
   "id": "6c83227f",
   "metadata": {},
   "outputs": [],
   "source": []
  }
 ],
 "metadata": {
  "kernelspec": {
   "display_name": "Python 3 (ipykernel)",
   "language": "python",
   "name": "python3"
  },
  "language_info": {
   "codemirror_mode": {
    "name": "ipython",
    "version": 3
   },
   "file_extension": ".py",
   "mimetype": "text/x-python",
   "name": "python",
   "nbconvert_exporter": "python",
   "pygments_lexer": "ipython3",
   "version": "3.9.13"
  }
 },
 "nbformat": 4,
 "nbformat_minor": 5
}
